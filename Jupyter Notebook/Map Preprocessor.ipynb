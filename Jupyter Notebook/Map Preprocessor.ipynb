{
 "cells": [
  {
   "cell_type": "code",
   "execution_count": 3,
   "metadata": {},
   "outputs": [],
   "source": [
    "# Import necessary packages\n",
    "import pandas as pd\n",
    "import json"
   ]
  },
  {
   "cell_type": "code",
   "execution_count": 4,
   "metadata": {},
   "outputs": [],
   "source": [
    "# Read and peek the data\n",
    "dataframe = pd.read_csv(\"ks.csv\")\n",
    "\n",
    "# Remove unwanted catagories\n",
    "filtered = dataframe[['ID', 'country', 'state']]"
   ]
  },
  {
   "cell_type": "code",
   "execution_count": 5,
   "metadata": {},
   "outputs": [],
   "source": [
    "country = [''] * len(filtered)\n",
    "# Change country code to three letter\n",
    "for i in range(0, len(filtered)):\n",
    "    if(filtered['country'][i]) == 'AU':\n",
    "        country[i] = 'AUS'\n",
    "    elif(filtered['country'][i]) == 'AT':\n",
    "         country[i] = 'AUT'\n",
    "    elif(filtered['country'][i]) == 'BE':\n",
    "         country[i] = 'BEL'\n",
    "    elif(filtered['country'][i]) == 'CA':\n",
    "         country[i] = 'CAN'\n",
    "    elif(filtered['country'][i]) == 'DE':\n",
    "         country[i] = 'DEU'\n",
    "    elif(filtered['country'][i]) == 'DK':\n",
    "         country[i] = 'DNK'\n",
    "    elif(filtered['country'][i]) == 'FR':\n",
    "         country[i] = 'FRA'\n",
    "    elif(filtered['country'][i]) == 'HK':\n",
    "         country[i] = 'HKG'\n",
    "    elif(filtered['country'][i]) == 'IE':\n",
    "         country[i] = 'IRL'\n",
    "    elif(filtered['country'][i]) == 'IT':\n",
    "         country[i] = 'ITA'\n",
    "    elif(filtered['country'][i]) == 'JP':\n",
    "         country[i] = 'JPN'\n",
    "    elif(filtered['country'][i]) == 'LU':\n",
    "        country[i] = 'LUX'\n",
    "    elif(filtered['country'][i]) == 'MX':\n",
    "         country[i] = 'MEX'\n",
    "    elif(filtered['country'][i]) == 'NZ':\n",
    "         country[i] = 'NZL'\n",
    "    elif(filtered['country'][i]) == 'NO':\n",
    "         country[i] = 'NOR'\n",
    "    elif(filtered['country'][i]) == 'SG':\n",
    "         country[i] = 'SGP'\n",
    "    elif(filtered['country'][i]) == 'ES':\n",
    "         country[i] = 'ESP'\n",
    "    elif(filtered['country'][i]) == 'SE':\n",
    "         country[i] = 'SWE'\n",
    "    elif(filtered['country'][i]) == 'CH':\n",
    "         country[i] = 'CHE'\n",
    "    elif(filtered['country'][i]) == 'NL':\n",
    "         country[i] = 'NLD'\n",
    "    elif(filtered['country'][i]) == 'GB':\n",
    "         country[i] = 'GBR'\n",
    "    elif(filtered['country'][i]) == 'US':\n",
    "         country[i] = 'USA'"
   ]
  },
  {
   "cell_type": "code",
   "execution_count": 6,
   "metadata": {},
   "outputs": [],
   "source": [
    "df = pd.DataFrame(country)\n",
    "filtered.insert(2, 'country_3', df, True)"
   ]
  },
  {
   "cell_type": "code",
   "execution_count": 7,
   "metadata": {},
   "outputs": [],
   "source": [
    "# Add new catagory and add to filtered\n",
    "state_value = [0] * len(filtered)"
   ]
  },
  {
   "cell_type": "code",
   "execution_count": 8,
   "metadata": {},
   "outputs": [],
   "source": [
    "for i in range(0,len(filtered)):\n",
    "    if filtered['state'][i] == 'successful':\n",
    "        state_value[i] = 1\n",
    "    elif filtered['state'][i] == 'failed' or filtered['state'][i] == 'canceled' or filtered['state'][i] == 'suspended':\n",
    "        state_value[i] = -1"
   ]
  },
  {
   "cell_type": "code",
   "execution_count": 9,
   "metadata": {},
   "outputs": [],
   "source": [
    "df = pd.DataFrame(state_value)\n",
    "filtered.insert(4, 'state_value', df, True)"
   ]
  },
  {
   "cell_type": "code",
   "execution_count": 11,
   "metadata": {},
   "outputs": [],
   "source": [
    "filtered.to_csv(\"filtered.csv\")"
   ]
  }
 ],
 "metadata": {
  "kernelspec": {
   "display_name": "Python 3",
   "language": "python",
   "name": "python3"
  },
  "language_info": {
   "codemirror_mode": {
    "name": "ipython",
    "version": 3
   },
   "file_extension": ".py",
   "mimetype": "text/x-python",
   "name": "python",
   "nbconvert_exporter": "python",
   "pygments_lexer": "ipython3",
   "version": "3.7.4"
  }
 },
 "nbformat": 4,
 "nbformat_minor": 4
}
