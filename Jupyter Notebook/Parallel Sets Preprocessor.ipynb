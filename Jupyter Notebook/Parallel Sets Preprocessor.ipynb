{
 "cells": [
  {
   "cell_type": "code",
   "execution_count": null,
   "metadata": {},
   "outputs": [],
   "source": []
  },
  {
   "cell_type": "code",
   "execution_count": 109,
   "metadata": {},
   "outputs": [],
   "source": [
    "# Import necessary packages\n",
    "import pandas as pd\n",
    "from datetime import datetime"
   ]
  },
  {
   "cell_type": "code",
   "execution_count": 110,
   "metadata": {},
   "outputs": [],
   "source": [
    "# Read the data\n",
    "dataframe = pd.read_csv(\"ks.csv\")\n",
    "# Read the rest of the data\n",
    "filtered = dataframe[['country', 'main_category', 'state', 'ID']]\n",
    "date_range = dataframe[['deadline', 'launched']] # Used to calc date_range\n",
    "profit = dataframe[['usd_pledged_real', 'usd_goal_real']] # Used to calc profit"
   ]
  },
  {
   "cell_type": "code",
   "execution_count": 111,
   "metadata": {},
   "outputs": [
    {
     "data": {
      "text/html": [
       "<div>\n",
       "<style scoped>\n",
       "    .dataframe tbody tr th:only-of-type {\n",
       "        vertical-align: middle;\n",
       "    }\n",
       "\n",
       "    .dataframe tbody tr th {\n",
       "        vertical-align: top;\n",
       "    }\n",
       "\n",
       "    .dataframe thead th {\n",
       "        text-align: right;\n",
       "    }\n",
       "</style>\n",
       "<table border=\"1\" class=\"dataframe\">\n",
       "  <thead>\n",
       "    <tr style=\"text-align: right;\">\n",
       "      <th></th>\n",
       "      <th>deadline</th>\n",
       "      <th>launched</th>\n",
       "    </tr>\n",
       "  </thead>\n",
       "  <tbody>\n",
       "    <tr>\n",
       "      <td>0</td>\n",
       "      <td>2015-10-09</td>\n",
       "      <td>2015-08-11 12:12:28</td>\n",
       "    </tr>\n",
       "    <tr>\n",
       "      <td>1</td>\n",
       "      <td>2017-11-01</td>\n",
       "      <td>2017-09-02 04:43:57</td>\n",
       "    </tr>\n",
       "    <tr>\n",
       "      <td>2</td>\n",
       "      <td>2013-02-26</td>\n",
       "      <td>2013-01-12 00:20:50</td>\n",
       "    </tr>\n",
       "    <tr>\n",
       "      <td>3</td>\n",
       "      <td>2012-04-16</td>\n",
       "      <td>2012-03-17 03:24:11</td>\n",
       "    </tr>\n",
       "    <tr>\n",
       "      <td>4</td>\n",
       "      <td>2015-08-29</td>\n",
       "      <td>2015-07-04 08:35:03</td>\n",
       "    </tr>\n",
       "  </tbody>\n",
       "</table>\n",
       "</div>"
      ],
      "text/plain": [
       "     deadline             launched\n",
       "0  2015-10-09  2015-08-11 12:12:28\n",
       "1  2017-11-01  2017-09-02 04:43:57\n",
       "2  2013-02-26  2013-01-12 00:20:50\n",
       "3  2012-04-16  2012-03-17 03:24:11\n",
       "4  2015-08-29  2015-07-04 08:35:03"
      ]
     },
     "execution_count": 111,
     "metadata": {},
     "output_type": "execute_result"
    }
   ],
   "source": [
    "_range = [''] * len(date_range)\n",
    "for i in range(0, len(date_range)):\n",
    "    _range[i] = date_range['launched'][i][:10]\n",
    "\n",
    "date_range.head()"
   ]
  },
  {
   "cell_type": "code",
   "execution_count": 112,
   "metadata": {},
   "outputs": [],
   "source": [
    "time = [''] * len(date_range)\n",
    "_time = [''] * len(date_range)\n",
    "for i in range(0, len(_range)):\n",
    "    time[i] = datetime.strptime(date_range['deadline'][i], '%Y-%m-%d')  - datetime.strptime(_range[i], '%Y-%m-%d')\n",
    "    if time[i].days > 50:\n",
    "        _time[i] = '> 50 days'\n",
    "    elif time[i].days > 40:\n",
    "        _time[i] = '40-50 days'\n",
    "    elif time[i].days > 30:\n",
    "        _time[i] = '30-50 days'\n",
    "    elif time[i].days > 20:\n",
    "        _time[i] = '20-30 days'\n",
    "    elif time[i].days > 10:\n",
    "        _time[i] = '10-20 days'\n",
    "    else:\n",
    "        _time[i] = '< 10 days'"
   ]
  },
  {
   "cell_type": "code",
   "execution_count": 113,
   "metadata": {},
   "outputs": [
    {
     "data": {
      "text/html": [
       "<div>\n",
       "<style scoped>\n",
       "    .dataframe tbody tr th:only-of-type {\n",
       "        vertical-align: middle;\n",
       "    }\n",
       "\n",
       "    .dataframe tbody tr th {\n",
       "        vertical-align: top;\n",
       "    }\n",
       "\n",
       "    .dataframe thead th {\n",
       "        text-align: right;\n",
       "    }\n",
       "</style>\n",
       "<table border=\"1\" class=\"dataframe\">\n",
       "  <thead>\n",
       "    <tr style=\"text-align: right;\">\n",
       "      <th></th>\n",
       "      <th>country</th>\n",
       "      <th>main_category</th>\n",
       "      <th>date_range</th>\n",
       "      <th>state</th>\n",
       "      <th>ID</th>\n",
       "    </tr>\n",
       "  </thead>\n",
       "  <tbody>\n",
       "    <tr>\n",
       "      <td>0</td>\n",
       "      <td>GB</td>\n",
       "      <td>Publishing</td>\n",
       "      <td>&gt; 50 days</td>\n",
       "      <td>failed</td>\n",
       "      <td>1000002330</td>\n",
       "    </tr>\n",
       "    <tr>\n",
       "      <td>1</td>\n",
       "      <td>US</td>\n",
       "      <td>Film &amp; Video</td>\n",
       "      <td>&gt; 50 days</td>\n",
       "      <td>failed</td>\n",
       "      <td>1000003930</td>\n",
       "    </tr>\n",
       "    <tr>\n",
       "      <td>2</td>\n",
       "      <td>US</td>\n",
       "      <td>Film &amp; Video</td>\n",
       "      <td>40-50 days</td>\n",
       "      <td>failed</td>\n",
       "      <td>1000004038</td>\n",
       "    </tr>\n",
       "    <tr>\n",
       "      <td>3</td>\n",
       "      <td>US</td>\n",
       "      <td>Music</td>\n",
       "      <td>20-30 days</td>\n",
       "      <td>failed</td>\n",
       "      <td>1000007540</td>\n",
       "    </tr>\n",
       "    <tr>\n",
       "      <td>4</td>\n",
       "      <td>US</td>\n",
       "      <td>Film &amp; Video</td>\n",
       "      <td>&gt; 50 days</td>\n",
       "      <td>canceled</td>\n",
       "      <td>1000011046</td>\n",
       "    </tr>\n",
       "  </tbody>\n",
       "</table>\n",
       "</div>"
      ],
      "text/plain": [
       "  country main_category  date_range     state          ID\n",
       "0      GB    Publishing   > 50 days    failed  1000002330\n",
       "1      US  Film & Video   > 50 days    failed  1000003930\n",
       "2      US  Film & Video  40-50 days    failed  1000004038\n",
       "3      US         Music  20-30 days    failed  1000007540\n",
       "4      US  Film & Video   > 50 days  canceled  1000011046"
      ]
     },
     "execution_count": 113,
     "metadata": {},
     "output_type": "execute_result"
    }
   ],
   "source": [
    "\n",
    "filtered.insert(2, 'date_range', _time, True)\n",
    "filtered.head()"
   ]
  },
  {
   "cell_type": "code",
   "execution_count": 114,
   "metadata": {},
   "outputs": [],
   "source": [
    "# Create profit\n",
    "_profit = [''] * len(profit)\n",
    "for i in range(0, len(profit)):\n",
    "    if round((profit['usd_pledged_real'][i]/profit['usd_goal_real'][i]) * 100, 4) >= 200:\n",
    "        _profit[i] = '> 200%'\n",
    "    elif round((profit['usd_pledged_real'][i]/profit['usd_goal_real'][i]) * 100, 4) >= 120:\n",
    "        _profit[i] = '120% - 200%'\n",
    "    elif round((profit['usd_pledged_real'][i]/profit['usd_goal_real'][i]) * 100, 4) >= 100:\n",
    "        _profit[i] = '100% - 120%'\n",
    "    elif round((profit['usd_pledged_real'][i]/profit['usd_goal_real'][i]) * 100, 4) >= 50:\n",
    "        _profit[i] = '50% - 100%'\n",
    "    elif round((profit['usd_pledged_real'][i]/profit['usd_goal_real'][i]) * 100, 4) >= 25:\n",
    "        _profit[i] = '25% - 50%'\n",
    "    elif round((profit['usd_pledged_real'][i]/profit['usd_goal_real'][i]) * 100, 4) >= 10:\n",
    "        _profit[i] = '10% - 25%'\n",
    "    else:\n",
    "        _profit[i] = '< 10%'\n",
    "        "
   ]
  },
  {
   "cell_type": "code",
   "execution_count": 115,
   "metadata": {},
   "outputs": [
    {
     "name": "stdout",
     "output_type": "stream",
     "text": [
      "['< 10%', '< 10%', '< 10%', '< 10%', '< 10%', '100% - 120%', '120% - 200%', '< 10%', '< 10%', '< 10%']\n"
     ]
    }
   ],
   "source": [
    "print(_profit[:10])"
   ]
  },
  {
   "cell_type": "code",
   "execution_count": 116,
   "metadata": {},
   "outputs": [
    {
     "data": {
      "text/html": [
       "<div>\n",
       "<style scoped>\n",
       "    .dataframe tbody tr th:only-of-type {\n",
       "        vertical-align: middle;\n",
       "    }\n",
       "\n",
       "    .dataframe tbody tr th {\n",
       "        vertical-align: top;\n",
       "    }\n",
       "\n",
       "    .dataframe thead th {\n",
       "        text-align: right;\n",
       "    }\n",
       "</style>\n",
       "<table border=\"1\" class=\"dataframe\">\n",
       "  <thead>\n",
       "    <tr style=\"text-align: right;\">\n",
       "      <th></th>\n",
       "      <th>country</th>\n",
       "      <th>main_category</th>\n",
       "      <th>date_range</th>\n",
       "      <th>state</th>\n",
       "      <th>profit</th>\n",
       "      <th>ID</th>\n",
       "    </tr>\n",
       "  </thead>\n",
       "  <tbody>\n",
       "    <tr>\n",
       "      <td>0</td>\n",
       "      <td>GB</td>\n",
       "      <td>Publishing</td>\n",
       "      <td>&gt; 50 days</td>\n",
       "      <td>failed</td>\n",
       "      <td>&lt; 10%</td>\n",
       "      <td>1000002330</td>\n",
       "    </tr>\n",
       "    <tr>\n",
       "      <td>1</td>\n",
       "      <td>US</td>\n",
       "      <td>Film &amp; Video</td>\n",
       "      <td>&gt; 50 days</td>\n",
       "      <td>failed</td>\n",
       "      <td>&lt; 10%</td>\n",
       "      <td>1000003930</td>\n",
       "    </tr>\n",
       "    <tr>\n",
       "      <td>2</td>\n",
       "      <td>US</td>\n",
       "      <td>Film &amp; Video</td>\n",
       "      <td>40-50 days</td>\n",
       "      <td>failed</td>\n",
       "      <td>&lt; 10%</td>\n",
       "      <td>1000004038</td>\n",
       "    </tr>\n",
       "    <tr>\n",
       "      <td>3</td>\n",
       "      <td>US</td>\n",
       "      <td>Music</td>\n",
       "      <td>20-30 days</td>\n",
       "      <td>failed</td>\n",
       "      <td>&lt; 10%</td>\n",
       "      <td>1000007540</td>\n",
       "    </tr>\n",
       "    <tr>\n",
       "      <td>4</td>\n",
       "      <td>US</td>\n",
       "      <td>Film &amp; Video</td>\n",
       "      <td>&gt; 50 days</td>\n",
       "      <td>canceled</td>\n",
       "      <td>&lt; 10%</td>\n",
       "      <td>1000011046</td>\n",
       "    </tr>\n",
       "  </tbody>\n",
       "</table>\n",
       "</div>"
      ],
      "text/plain": [
       "  country main_category  date_range     state profit          ID\n",
       "0      GB    Publishing   > 50 days    failed  < 10%  1000002330\n",
       "1      US  Film & Video   > 50 days    failed  < 10%  1000003930\n",
       "2      US  Film & Video  40-50 days    failed  < 10%  1000004038\n",
       "3      US         Music  20-30 days    failed  < 10%  1000007540\n",
       "4      US  Film & Video   > 50 days  canceled  < 10%  1000011046"
      ]
     },
     "execution_count": 116,
     "metadata": {},
     "output_type": "execute_result"
    }
   ],
   "source": [
    "filtered.insert(4, 'profit', _profit, True)\n",
    "filtered.head()"
   ]
  },
  {
   "cell_type": "code",
   "execution_count": 117,
   "metadata": {},
   "outputs": [],
   "source": [
    "filtered.to_csv(\"sankey.csv\")"
   ]
  },
  {
   "cell_type": "code",
   "execution_count": null,
   "metadata": {},
   "outputs": [],
   "source": []
  }
 ],
 "metadata": {
  "kernelspec": {
   "display_name": "Python 3",
   "language": "python",
   "name": "python3"
  },
  "language_info": {
   "codemirror_mode": {
    "name": "ipython",
    "version": 3
   },
   "file_extension": ".py",
   "mimetype": "text/x-python",
   "name": "python",
   "nbconvert_exporter": "python",
   "pygments_lexer": "ipython3",
   "version": "3.7.4"
  }
 },
 "nbformat": 4,
 "nbformat_minor": 2
}
